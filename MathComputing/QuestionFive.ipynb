{
 "cells": [
  {
   "cell_type": "code",
   "execution_count": 7,
   "metadata": {},
   "outputs": [
    {
     "name": "stdout",
     "output_type": "stream",
     "text": [
      "Requirement already satisfied: numpy in c:\\users\\witi\\appdata\\local\\packages\\pythonsoftwarefoundation.python.3.11_qbz5n2kfra8p0\\localcache\\local-packages\\python311\\site-packages (2.1.1)\n",
      "Note: you may need to restart the kernel to use updated packages.\n"
     ]
    }
   ],
   "source": [
    "pip install numpy"
   ]
  },
  {
   "cell_type": "code",
   "execution_count": 1,
   "metadata": {},
   "outputs": [
    {
     "name": "stdout",
     "output_type": "stream",
     "text": [
      "Note: you may need to restart the kernel to use updated packages.\n"
     ]
    },
    {
     "name": "stderr",
     "output_type": "stream",
     "text": [
      "WARNING: Retrying (Retry(total=4, connect=None, read=None, redirect=None, status=None)) after connection broken by 'NewConnectionError('<pip._vendor.urllib3.connection.HTTPSConnection object at 0x00000219D44F9490>: Failed to establish a new connection: [Errno 11001] getaddrinfo failed')': /simple/scipy-linalg/\n",
      "WARNING: Retrying (Retry(total=3, connect=None, read=None, redirect=None, status=None)) after connection broken by 'NewConnectionError('<pip._vendor.urllib3.connection.HTTPSConnection object at 0x00000219D44FA250>: Failed to establish a new connection: [Errno 11001] getaddrinfo failed')': /simple/scipy-linalg/\n",
      "WARNING: Retrying (Retry(total=2, connect=None, read=None, redirect=None, status=None)) after connection broken by 'NewConnectionError('<pip._vendor.urllib3.connection.HTTPSConnection object at 0x00000219D44FAF90>: Failed to establish a new connection: [Errno 11001] getaddrinfo failed')': /simple/scipy-linalg/\n",
      "WARNING: Retrying (Retry(total=1, connect=None, read=None, redirect=None, status=None)) after connection broken by 'NewConnectionError('<pip._vendor.urllib3.connection.HTTPSConnection object at 0x00000219D44FBA50>: Failed to establish a new connection: [Errno 11001] getaddrinfo failed')': /simple/scipy-linalg/\n",
      "WARNING: Retrying (Retry(total=0, connect=None, read=None, redirect=None, status=None)) after connection broken by 'NewConnectionError('<pip._vendor.urllib3.connection.HTTPSConnection object at 0x00000219D45245D0>: Failed to establish a new connection: [Errno 11001] getaddrinfo failed')': /simple/scipy-linalg/\n",
      "ERROR: Could not find a version that satisfies the requirement scipy.linalg (from versions: none)\n",
      "ERROR: No matching distribution found for scipy.linalg\n"
     ]
    }
   ],
   "source": [
    "pip install scipy.linalg"
   ]
  },
  {
   "cell_type": "code",
   "execution_count": 8,
   "metadata": {},
   "outputs": [
    {
     "name": "stdout",
     "output_type": "stream",
     "text": [
      "The Transpose of the matrix is:\n",
      "[[1.  0.2 0.5]\n",
      " [0.2 1.  0.8]\n",
      " [0.5 0.8 1. ]]\n"
     ]
    }
   ],
   "source": [
    "import numpy as np\n",
    "from scipy.linalg import lu\n",
    "\n",
    "#Defining the matrix as a NumPy array\n",
    "matrix = np.array([\n",
    "    [1, 0.2, 0.5],\n",
    "    [0.2, 1, 0.8],\n",
    "    [0.5, 0.8, 1]\n",
    "])\n",
    "\n",
    "#Compute the transpose of the matrix\n",
    "transpose = np.transpose(matrix)\n",
    "print(\"The Transpose of the matrix is:\")\n",
    "print(transpose)\n",
    "\n",
    "\n"
   ]
  },
  {
   "cell_type": "code",
   "execution_count": null,
   "metadata": {},
   "outputs": [
    {
     "name": "stdout",
     "output_type": "stream",
     "text": [
      "\n",
      " The Determinant of the matrix is:\n",
      "0.2299999999999999\n"
     ]
    }
   ],
   "source": [
    "#Compute the determinant of the matrix\n",
    "determinant = np.linalg.det(matrix)\n",
    "print(\"\\n The Determinant of the matrix is:\")\n",
    "print(determinant)\n"
   ]
  },
  {
   "cell_type": "code",
   "execution_count": null,
   "metadata": {},
   "outputs": [],
   "source": [
    "#Decompose the matrix using LU decomposition\n",
    "P, L, U = lu(matrix)\n",
    "print(\"\\nP (Permutation matrix):\")\n",
    "print(P)\n",
    "print(\"\\nL (Lower triangular matrix):\")\n",
    "print(L)\n",
    "print(\"\\nU (Upper triangular matrix):\")\n",
    "print(U)\n"
   ]
  },
  {
   "cell_type": "code",
   "execution_count": null,
   "metadata": {},
   "outputs": [],
   "source": [
    "#Transform the matrix \n"
   ]
  }
 ],
 "metadata": {
  "kernelspec": {
   "display_name": "Python 3",
   "language": "python",
   "name": "python3"
  },
  "language_info": {
   "codemirror_mode": {
    "name": "ipython",
    "version": 3
   },
   "file_extension": ".py",
   "mimetype": "text/x-python",
   "name": "python",
   "nbconvert_exporter": "python",
   "pygments_lexer": "ipython3",
   "version": "3.11.9"
  }
 },
 "nbformat": 4,
 "nbformat_minor": 2
}
